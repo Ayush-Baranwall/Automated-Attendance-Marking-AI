{
 "cells": [
  {
   "cell_type": "code",
   "execution_count": 31,
   "id": "a7cfa985",
   "metadata": {},
   "outputs": [],
   "source": [
    "import os\n",
    "import cv2\n",
    "import numpy as np\n",
    "import pickle \n",
    "from PIL import Image   "
   ]
  },
  {
   "cell_type": "code",
   "execution_count": 4,
   "id": "953c2d0e",
   "metadata": {},
   "outputs": [],
   "source": [
    "import pandas as pd"
   ]
  },
  {
   "cell_type": "code",
   "execution_count": 25,
   "id": "679f2310",
   "metadata": {},
   "outputs": [],
   "source": [
    "x = ['a', 'b', 'c']\n",
    "y = [1, 2, 3]"
   ]
  },
  {
   "cell_type": "code",
   "execution_count": 26,
   "id": "61c61e61",
   "metadata": {},
   "outputs": [],
   "source": [
    "df = pd.DataFrame([x, y])"
   ]
  },
  {
   "cell_type": "code",
   "execution_count": 27,
   "id": "cd82ddd3",
   "metadata": {},
   "outputs": [],
   "source": [
    "df = df.transpose()"
   ]
  },
  {
   "cell_type": "code",
   "execution_count": 28,
   "id": "6040bd9c",
   "metadata": {},
   "outputs": [
    {
     "data": {
      "text/html": [
       "<div>\n",
       "<style scoped>\n",
       "    .dataframe tbody tr th:only-of-type {\n",
       "        vertical-align: middle;\n",
       "    }\n",
       "\n",
       "    .dataframe tbody tr th {\n",
       "        vertical-align: top;\n",
       "    }\n",
       "\n",
       "    .dataframe thead th {\n",
       "        text-align: right;\n",
       "    }\n",
       "</style>\n",
       "<table border=\"1\" class=\"dataframe\">\n",
       "  <thead>\n",
       "    <tr style=\"text-align: right;\">\n",
       "      <th></th>\n",
       "      <th>0</th>\n",
       "      <th>1</th>\n",
       "    </tr>\n",
       "  </thead>\n",
       "  <tbody>\n",
       "    <tr>\n",
       "      <th>0</th>\n",
       "      <td>a</td>\n",
       "      <td>1</td>\n",
       "    </tr>\n",
       "    <tr>\n",
       "      <th>1</th>\n",
       "      <td>b</td>\n",
       "      <td>2</td>\n",
       "    </tr>\n",
       "    <tr>\n",
       "      <th>2</th>\n",
       "      <td>c</td>\n",
       "      <td>3</td>\n",
       "    </tr>\n",
       "  </tbody>\n",
       "</table>\n",
       "</div>"
      ],
      "text/plain": [
       "   0  1\n",
       "0  a  1\n",
       "1  b  2\n",
       "2  c  3"
      ]
     },
     "execution_count": 28,
     "metadata": {},
     "output_type": "execute_result"
    }
   ],
   "source": [
    "df"
   ]
  },
  {
   "cell_type": "code",
   "execution_count": 29,
   "id": "5a9e9a8c",
   "metadata": {},
   "outputs": [],
   "source": [
    "name = list()\n",
    "image = list()"
   ]
  },
  {
   "cell_type": "code",
   "execution_count": 33,
   "id": "2324e3d5",
   "metadata": {},
   "outputs": [
    {
     "name": "stderr",
     "output_type": "stream",
     "text": [
      "e:\\my_projects\\ai_project\\lib\\site-packages\\PIL\\Image.py:946: UserWarning: Palette images with Transparency expressed in bytes should be converted to RGBA images\n",
      "  \"Palette images with Transparency expressed in bytes should be \"\n"
     ]
    }
   ],
   "source": [
    "file_directory = 'e:\\\\my_projects\\\\ai_ml_project' # getting location of faces folder\n",
    "faces_to_train_directory = os.path.join(file_directory, 'faces_to_train')\n",
    "face_cascade = cv2.CascadeClassifier(f'{file_directory}\\\\cascades\\\\data\\\\haarcascade_frontalface_alt2.xml')\n",
    "\n",
    "for root, dirs, files in os.walk(faces_to_train_directory):\n",
    "    for file in files:\n",
    "        try: \n",
    "            if file.endswith('png') or file.endswith('jpg') or file.endswith('jpeg'):\n",
    "                path = os.path.join(root, file)\n",
    "                label = os.path.basename(root)\n",
    "\n",
    "                pil_image = Image.open(fr'{path}').convert('L')  # .conver('L') converts it into black and white\n",
    "                size = (550, 550) # resizing before training cuz for some reason this is better\n",
    "                final_image = pil_image.resize(size, Image.ANTIALIAS)\n",
    "                image_array = np.array(final_image, 'uint8')  # converting images to numpy array \n",
    "                # print(image_array)\n",
    "                faces = face_cascade.detectMultiScale(image_array, scaleFactor=1.5, minNeighbors=5)\n",
    "\n",
    "                for (x, y, w, h) in faces:\n",
    "                    roi = image_array[y:y+h, x:x+w] # roi => region of interest \n",
    "                    image.append(roi)\n",
    "                    name.append(label)\n",
    "\n",
    "        except:\n",
    "            continue"
   ]
  },
  {
   "cell_type": "code",
   "execution_count": 41,
   "id": "b12bd2e7",
   "metadata": {},
   "outputs": [
    {
     "data": {
      "text/plain": [
       "852"
      ]
     },
     "execution_count": 41,
     "metadata": {},
     "output_type": "execute_result"
    }
   ],
   "source": [
    "len(image)"
   ]
  },
  {
   "cell_type": "code",
   "execution_count": 42,
   "id": "5a6b6f2f",
   "metadata": {},
   "outputs": [
    {
     "data": {
      "text/plain": [
       "852"
      ]
     },
     "execution_count": 42,
     "metadata": {},
     "output_type": "execute_result"
    }
   ],
   "source": [
    "len(name)"
   ]
  },
  {
   "cell_type": "code",
   "execution_count": 45,
   "id": "4593d9a7",
   "metadata": {},
   "outputs": [],
   "source": [
    "df = pd.DataFrame([name, image])\n",
    "df = df.transpose()"
   ]
  },
  {
   "cell_type": "code",
   "execution_count": 46,
   "id": "2b3c610e",
   "metadata": {},
   "outputs": [
    {
     "data": {
      "text/html": [
       "<div>\n",
       "<style scoped>\n",
       "    .dataframe tbody tr th:only-of-type {\n",
       "        vertical-align: middle;\n",
       "    }\n",
       "\n",
       "    .dataframe tbody tr th {\n",
       "        vertical-align: top;\n",
       "    }\n",
       "\n",
       "    .dataframe thead th {\n",
       "        text-align: right;\n",
       "    }\n",
       "</style>\n",
       "<table border=\"1\" class=\"dataframe\">\n",
       "  <thead>\n",
       "    <tr style=\"text-align: right;\">\n",
       "      <th></th>\n",
       "      <th>0</th>\n",
       "      <th>1</th>\n",
       "    </tr>\n",
       "  </thead>\n",
       "  <tbody>\n",
       "    <tr>\n",
       "      <th>0</th>\n",
       "      <td>bill_gates</td>\n",
       "      <td>[[2, 2, 2, 2, 2, 2, 2, 2, 2, 2, 2, 2, 2, 2, 2,...</td>\n",
       "    </tr>\n",
       "    <tr>\n",
       "      <th>1</th>\n",
       "      <td>bill_gates</td>\n",
       "      <td>[[207, 209, 212, 211, 211, 211, 211, 212, 211,...</td>\n",
       "    </tr>\n",
       "    <tr>\n",
       "      <th>2</th>\n",
       "      <td>bill_gates</td>\n",
       "      <td>[[38, 50, 79, 99, 116, 117, 107, 111, 109, 101...</td>\n",
       "    </tr>\n",
       "    <tr>\n",
       "      <th>3</th>\n",
       "      <td>bill_gates</td>\n",
       "      <td>[[67, 57, 38, 36, 42, 49, 58, 42, 32, 33, 27, ...</td>\n",
       "    </tr>\n",
       "    <tr>\n",
       "      <th>4</th>\n",
       "      <td>bill_gates</td>\n",
       "      <td>[[35, 33, 34, 34, 34, 35, 34, 35, 34, 34, 34, ...</td>\n",
       "    </tr>\n",
       "    <tr>\n",
       "      <th>...</th>\n",
       "      <td>...</td>\n",
       "      <td>...</td>\n",
       "    </tr>\n",
       "    <tr>\n",
       "      <th>847</th>\n",
       "      <td>tom_hiddleston</td>\n",
       "      <td>[[38, 36, 38, 47, 36, 21, 32, 64, 46, 25, 22, ...</td>\n",
       "    </tr>\n",
       "    <tr>\n",
       "      <th>848</th>\n",
       "      <td>tom_hiddleston</td>\n",
       "      <td>[[156, 159, 166, 170, 166, 163, 164, 166, 159,...</td>\n",
       "    </tr>\n",
       "    <tr>\n",
       "      <th>849</th>\n",
       "      <td>tom_hiddleston</td>\n",
       "      <td>[[9, 4, 9, 11, 7, 7, 9, 10, 8, 8, 7, 9, 12, 8,...</td>\n",
       "    </tr>\n",
       "    <tr>\n",
       "      <th>850</th>\n",
       "      <td>tom_hiddleston</td>\n",
       "      <td>[[97, 93, 90, 88, 86, 84, 79, 76, 76, 73, 70, ...</td>\n",
       "    </tr>\n",
       "    <tr>\n",
       "      <th>851</th>\n",
       "      <td>tom_hiddleston</td>\n",
       "      <td>[[106, 123, 134, 123, 127, 136, 149, 154, 160,...</td>\n",
       "    </tr>\n",
       "  </tbody>\n",
       "</table>\n",
       "<p>852 rows × 2 columns</p>\n",
       "</div>"
      ],
      "text/plain": [
       "                  0                                                  1\n",
       "0        bill_gates  [[2, 2, 2, 2, 2, 2, 2, 2, 2, 2, 2, 2, 2, 2, 2,...\n",
       "1        bill_gates  [[207, 209, 212, 211, 211, 211, 211, 212, 211,...\n",
       "2        bill_gates  [[38, 50, 79, 99, 116, 117, 107, 111, 109, 101...\n",
       "3        bill_gates  [[67, 57, 38, 36, 42, 49, 58, 42, 32, 33, 27, ...\n",
       "4        bill_gates  [[35, 33, 34, 34, 34, 35, 34, 35, 34, 34, 34, ...\n",
       "..              ...                                                ...\n",
       "847  tom_hiddleston  [[38, 36, 38, 47, 36, 21, 32, 64, 46, 25, 22, ...\n",
       "848  tom_hiddleston  [[156, 159, 166, 170, 166, 163, 164, 166, 159,...\n",
       "849  tom_hiddleston  [[9, 4, 9, 11, 7, 7, 9, 10, 8, 8, 7, 9, 12, 8,...\n",
       "850  tom_hiddleston  [[97, 93, 90, 88, 86, 84, 79, 76, 76, 73, 70, ...\n",
       "851  tom_hiddleston  [[106, 123, 134, 123, 127, 136, 149, 154, 160,...\n",
       "\n",
       "[852 rows x 2 columns]"
      ]
     },
     "execution_count": 46,
     "metadata": {},
     "output_type": "execute_result"
    }
   ],
   "source": [
    "df"
   ]
  },
  {
   "cell_type": "code",
   "execution_count": 48,
   "id": "5f785f4e",
   "metadata": {},
   "outputs": [],
   "source": [
    "df.to_csv('scikit_data.csv', index=False)"
   ]
  },
  {
   "cell_type": "code",
   "execution_count": null,
   "id": "8f5223f6",
   "metadata": {},
   "outputs": [],
   "source": []
  }
 ],
 "metadata": {
  "kernelspec": {
   "display_name": "Python 3 (ipykernel)",
   "language": "python",
   "name": "python3"
  },
  "language_info": {
   "codemirror_mode": {
    "name": "ipython",
    "version": 3
   },
   "file_extension": ".py",
   "mimetype": "text/x-python",
   "name": "python",
   "nbconvert_exporter": "python",
   "pygments_lexer": "ipython3",
   "version": "3.7.9"
  }
 },
 "nbformat": 4,
 "nbformat_minor": 5
}
