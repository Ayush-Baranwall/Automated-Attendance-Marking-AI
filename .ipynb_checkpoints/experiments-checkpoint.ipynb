{
 "cells": [
  {
   "cell_type": "code",
   "execution_count": 31,
   "id": "12c020a1",
   "metadata": {},
   "outputs": [],
   "source": [
    "import os\n",
    "import cv2\n",
    "import numpy as np\n",
    "import pickle \n",
    "from PIL import Image   "
   ]
  },
  {
   "cell_type": "code",
   "execution_count": 4,
   "id": "e615e574",
   "metadata": {},
   "outputs": [],
   "source": [
    "import pandas as pd"
   ]
  },
  {
   "cell_type": "code",
   "execution_count": 25,
   "id": "d7ecbf87",
   "metadata": {},
   "outputs": [],
   "source": [
    "x = ['a', 'b', 'c']\n",
    "y = [1, 2, 3]"
   ]
  },
  {
   "cell_type": "code",
   "execution_count": 26,
   "id": "b042f766",
   "metadata": {},
   "outputs": [],
   "source": [
    "df = pd.DataFrame([x, y])"
   ]
  },
  {
   "cell_type": "code",
   "execution_count": 27,
   "id": "91ff836d",
   "metadata": {},
   "outputs": [],
   "source": [
    "df = df.transpose()"
   ]
  },
  {
   "cell_type": "code",
   "execution_count": 28,
   "id": "12567108",
   "metadata": {},
   "outputs": [
    {
     "data": {
      "text/html": [
       "<div>\n",
       "<style scoped>\n",
       "    .dataframe tbody tr th:only-of-type {\n",
       "        vertical-align: middle;\n",
       "    }\n",
       "\n",
       "    .dataframe tbody tr th {\n",
       "        vertical-align: top;\n",
       "    }\n",
       "\n",
       "    .dataframe thead th {\n",
       "        text-align: right;\n",
       "    }\n",
       "</style>\n",
       "<table border=\"1\" class=\"dataframe\">\n",
       "  <thead>\n",
       "    <tr style=\"text-align: right;\">\n",
       "      <th></th>\n",
       "      <th>0</th>\n",
       "      <th>1</th>\n",
       "    </tr>\n",
       "  </thead>\n",
       "  <tbody>\n",
       "    <tr>\n",
       "      <th>0</th>\n",
       "      <td>a</td>\n",
       "      <td>1</td>\n",
       "    </tr>\n",
       "    <tr>\n",
       "      <th>1</th>\n",
       "      <td>b</td>\n",
       "      <td>2</td>\n",
       "    </tr>\n",
       "    <tr>\n",
       "      <th>2</th>\n",
       "      <td>c</td>\n",
       "      <td>3</td>\n",
       "    </tr>\n",
       "  </tbody>\n",
       "</table>\n",
       "</div>"
      ],
      "text/plain": [
       "   0  1\n",
       "0  a  1\n",
       "1  b  2\n",
       "2  c  3"
      ]
     },
     "execution_count": 28,
     "metadata": {},
     "output_type": "execute_result"
    }
   ],
   "source": [
    "df"
   ]
  },
  {
   "cell_type": "code",
   "execution_count": 29,
   "id": "27be6344",
   "metadata": {},
   "outputs": [],
   "source": [
    "name = list()\n",
    "image = list()"
   ]
  },
  {
   "cell_type": "code",
   "execution_count": 33,
   "id": "59604e5b",
   "metadata": {},
   "outputs": [
    {
     "name": "stderr",
     "output_type": "stream",
     "text": [
      "e:\\my_projects\\ai_project\\lib\\site-packages\\PIL\\Image.py:946: UserWarning: Palette images with Transparency expressed in bytes should be converted to RGBA images\n",
      "  \"Palette images with Transparency expressed in bytes should be \"\n"
     ]
    }
   ],
   "source": [
    "file_directory = 'e:\\\\my_projects\\\\ai_ml_project' # getting location of faces folder\n",
    "faces_to_train_directory = os.path.join(file_directory, 'faces_to_train')\n",
    "face_cascade = cv2.CascadeClassifier(f'{file_directory}\\\\cascades\\\\data\\\\haarcascade_frontalface_alt2.xml')\n",
    "\n",
    "for root, dirs, files in os.walk(faces_to_train_directory):\n",
    "    for file in files:\n",
    "        try: \n",
    "            if file.endswith('png') or file.endswith('jpg') or file.endswith('jpeg'):\n",
    "                path = os.path.join(root, file)\n",
    "                label = os.path.basename(root)\n",
    "\n",
    "                pil_image = Image.open(fr'{path}').convert('L')  # .conver('L') converts it into black and white\n",
    "                size = (550, 550) # resizing before training cuz for some reason this is better\n",
    "                final_image = pil_image.resize(size, Image.ANTIALIAS)\n",
    "                image_array = np.array(final_image, 'uint8')  # converting images to numpy array \n",
    "                # print(image_array)\n",
    "                faces = face_cascade.detectMultiScale(image_array, scaleFactor=1.5, minNeighbors=5)\n",
    "\n",
    "                for (x, y, w, h) in faces:\n",
    "                    roi = image_array[y:y+h, x:x+w] # roi => region of interest \n",
    "                    image.append(roi)\n",
    "                    name.append(label)\n",
    "\n",
    "        except:\n",
    "            continue"
   ]
  },
  {
   "cell_type": "code",
   "execution_count": 41,
   "id": "92a7bd26",
   "metadata": {},
   "outputs": [
    {
     "data": {
      "text/plain": [
       "852"
      ]
     },
     "execution_count": 41,
     "metadata": {},
     "output_type": "execute_result"
    }
   ],
   "source": [
    "len(image)"
   ]
  },
  {
   "cell_type": "code",
   "execution_count": 42,
   "id": "c168b683",
   "metadata": {},
   "outputs": [
    {
     "data": {
      "text/plain": [
       "852"
      ]
     },
     "execution_count": 42,
     "metadata": {},
     "output_type": "execute_result"
    }
   ],
   "source": [
    "len(name)"
   ]
  },
  {
   "cell_type": "code",
   "execution_count": 45,
   "id": "a775dcc9",
   "metadata": {},
   "outputs": [],
   "source": [
    "df = pd.DataFrame([name, image])\n",
    "df = df.transpose()"
   ]
  },
  {
   "cell_type": "code",
   "execution_count": 46,
   "id": "2ac52276",
   "metadata": {
    "scrolled": true
   },
   "outputs": [
    {
     "data": {
      "text/html": [
       "<div>\n",
       "<style scoped>\n",
       "    .dataframe tbody tr th:only-of-type {\n",
       "        vertical-align: middle;\n",
       "    }\n",
       "\n",
       "    .dataframe tbody tr th {\n",
       "        vertical-align: top;\n",
       "    }\n",
       "\n",
       "    .dataframe thead th {\n",
       "        text-align: right;\n",
       "    }\n",
       "</style>\n",
       "<table border=\"1\" class=\"dataframe\">\n",
       "  <thead>\n",
       "    <tr style=\"text-align: right;\">\n",
       "      <th></th>\n",
       "      <th>0</th>\n",
       "      <th>1</th>\n",
       "    </tr>\n",
       "  </thead>\n",
       "  <tbody>\n",
       "    <tr>\n",
       "      <th>0</th>\n",
       "      <td>bill_gates</td>\n",
       "      <td>[[2, 2, 2, 2, 2, 2, 2, 2, 2, 2, 2, 2, 2, 2, 2,...</td>\n",
       "    </tr>\n",
       "    <tr>\n",
       "      <th>1</th>\n",
       "      <td>bill_gates</td>\n",
       "      <td>[[207, 209, 212, 211, 211, 211, 211, 212, 211,...</td>\n",
       "    </tr>\n",
       "    <tr>\n",
       "      <th>2</th>\n",
       "      <td>bill_gates</td>\n",
       "      <td>[[38, 50, 79, 99, 116, 117, 107, 111, 109, 101...</td>\n",
       "    </tr>\n",
       "    <tr>\n",
       "      <th>3</th>\n",
       "      <td>bill_gates</td>\n",
       "      <td>[[67, 57, 38, 36, 42, 49, 58, 42, 32, 33, 27, ...</td>\n",
       "    </tr>\n",
       "    <tr>\n",
       "      <th>4</th>\n",
       "      <td>bill_gates</td>\n",
       "      <td>[[35, 33, 34, 34, 34, 35, 34, 35, 34, 34, 34, ...</td>\n",
       "    </tr>\n",
       "    <tr>\n",
       "      <th>...</th>\n",
       "      <td>...</td>\n",
       "      <td>...</td>\n",
       "    </tr>\n",
       "    <tr>\n",
       "      <th>847</th>\n",
       "      <td>tom_hiddleston</td>\n",
       "      <td>[[38, 36, 38, 47, 36, 21, 32, 64, 46, 25, 22, ...</td>\n",
       "    </tr>\n",
       "    <tr>\n",
       "      <th>848</th>\n",
       "      <td>tom_hiddleston</td>\n",
       "      <td>[[156, 159, 166, 170, 166, 163, 164, 166, 159,...</td>\n",
       "    </tr>\n",
       "    <tr>\n",
       "      <th>849</th>\n",
       "      <td>tom_hiddleston</td>\n",
       "      <td>[[9, 4, 9, 11, 7, 7, 9, 10, 8, 8, 7, 9, 12, 8,...</td>\n",
       "    </tr>\n",
       "    <tr>\n",
       "      <th>850</th>\n",
       "      <td>tom_hiddleston</td>\n",
       "      <td>[[97, 93, 90, 88, 86, 84, 79, 76, 76, 73, 70, ...</td>\n",
       "    </tr>\n",
       "    <tr>\n",
       "      <th>851</th>\n",
       "      <td>tom_hiddleston</td>\n",
       "      <td>[[106, 123, 134, 123, 127, 136, 149, 154, 160,...</td>\n",
       "    </tr>\n",
       "  </tbody>\n",
       "</table>\n",
       "<p>852 rows × 2 columns</p>\n",
       "</div>"
      ],
      "text/plain": [
       "                  0                                                  1\n",
       "0        bill_gates  [[2, 2, 2, 2, 2, 2, 2, 2, 2, 2, 2, 2, 2, 2, 2,...\n",
       "1        bill_gates  [[207, 209, 212, 211, 211, 211, 211, 212, 211,...\n",
       "2        bill_gates  [[38, 50, 79, 99, 116, 117, 107, 111, 109, 101...\n",
       "3        bill_gates  [[67, 57, 38, 36, 42, 49, 58, 42, 32, 33, 27, ...\n",
       "4        bill_gates  [[35, 33, 34, 34, 34, 35, 34, 35, 34, 34, 34, ...\n",
       "..              ...                                                ...\n",
       "847  tom_hiddleston  [[38, 36, 38, 47, 36, 21, 32, 64, 46, 25, 22, ...\n",
       "848  tom_hiddleston  [[156, 159, 166, 170, 166, 163, 164, 166, 159,...\n",
       "849  tom_hiddleston  [[9, 4, 9, 11, 7, 7, 9, 10, 8, 8, 7, 9, 12, 8,...\n",
       "850  tom_hiddleston  [[97, 93, 90, 88, 86, 84, 79, 76, 76, 73, 70, ...\n",
       "851  tom_hiddleston  [[106, 123, 134, 123, 127, 136, 149, 154, 160,...\n",
       "\n",
       "[852 rows x 2 columns]"
      ]
     },
     "execution_count": 46,
     "metadata": {},
     "output_type": "execute_result"
    }
   ],
   "source": [
    "df"
   ]
  },
  {
   "cell_type": "code",
   "execution_count": 80,
   "id": "3f9d689c",
   "metadata": {},
   "outputs": [],
   "source": [
    "df.columns = ['name', 'image']"
   ]
  },
  {
   "cell_type": "code",
   "execution_count": 83,
   "id": "6b8d03f9",
   "metadata": {},
   "outputs": [],
   "source": [
    "df['image'] = df['image'].transform(lambda x: json.dumps(x.tolist()))"
   ]
  },
  {
   "cell_type": "code",
   "execution_count": 85,
   "id": "16c91ca8",
   "metadata": {},
   "outputs": [],
   "source": [
    "df.to_csv('scikit_data.csv', index=False, encoding='utf-8-sig')"
   ]
  },
  {
   "cell_type": "code",
   "execution_count": null,
   "id": "6e05bd96",
   "metadata": {},
   "outputs": [],
   "source": []
  },
  {
   "cell_type": "code",
   "execution_count": null,
   "id": "612fe35a",
   "metadata": {},
   "outputs": [],
   "source": []
  },
  {
   "cell_type": "code",
   "execution_count": null,
   "id": "b2356817",
   "metadata": {},
   "outputs": [],
   "source": []
  },
  {
   "cell_type": "code",
   "execution_count": null,
   "id": "71237ff0",
   "metadata": {},
   "outputs": [],
   "source": [
    "import os\n",
    "import cv2\n",
    "from nbformat import read\n",
    "import numpy as np\n",
    "import pickle \n",
    "from PIL import Image  \n",
    "import csv \n",
    "import random\n",
    "import json\n",
    "\n",
    "from sklearn import svm\n",
    "from sklearn.linear_model import Perceptron\n",
    "from sklearn.naive_bayes import GaussianNB\n",
    "from sklearn.neighbors import KNeighborsClassifier\n",
    "from sklearn.model_selection import train_test_split"
   ]
  },
  {
   "cell_type": "code",
   "execution_count": 101,
   "id": "4cb981a5",
   "metadata": {},
   "outputs": [],
   "source": [
    "model = svm.SVC()"
   ]
  },
  {
   "cell_type": "code",
   "execution_count": 118,
   "id": "2152a269",
   "metadata": {},
   "outputs": [],
   "source": [
    "data = pd.read_csv('scikit_data.csv')"
   ]
  },
  {
   "cell_type": "code",
   "execution_count": 119,
   "id": "68102114",
   "metadata": {},
   "outputs": [],
   "source": [
    "data['image'] = data['image'].transform(lambda x: np.array(json.loads(x)))"
   ]
  },
  {
   "cell_type": "code",
   "execution_count": 127,
   "id": "276b4465",
   "metadata": {},
   "outputs": [],
   "source": [
    "data['shape'] = data['image'].transform(lambda x: x.shape)"
   ]
  },
  {
   "cell_type": "code",
   "execution_count": 133,
   "id": "d8d9c9a7",
   "metadata": {},
   "outputs": [],
   "source": [
    "data['height'] = data['shape'].transform(lambda x: x[0])"
   ]
  },
  {
   "cell_type": "code",
   "execution_count": 134,
   "id": "4d54e622",
   "metadata": {},
   "outputs": [],
   "source": [
    "data['width'] = data['shape'].transform(lambda x: x[1])"
   ]
  },
  {
   "cell_type": "code",
   "execution_count": 166,
   "id": "f0f3f515",
   "metadata": {},
   "outputs": [],
   "source": [
    "data['image_resized'] = data['image'].transform(lambda img: cv2.resize(img, dsize=(round(data['width'].mean()), round(data['height'].mean())), interpolation=cv2.INTER_LINEAR_EXACT))"
   ]
  },
  {
   "cell_type": "code",
   "execution_count": 174,
   "id": "6b024af8",
   "metadata": {},
   "outputs": [],
   "source": [
    "data['image_resized_flattened'] = data['image_resized'].transform(lambda x: x.reshape((1, x.shape[0]*x.shape[1]))[0])"
   ]
  },
  {
   "cell_type": "code",
   "execution_count": 175,
   "id": "b83b4d8c",
   "metadata": {},
   "outputs": [
    {
     "data": {
      "text/html": [
       "<div>\n",
       "<style scoped>\n",
       "    .dataframe tbody tr th:only-of-type {\n",
       "        vertical-align: middle;\n",
       "    }\n",
       "\n",
       "    .dataframe tbody tr th {\n",
       "        vertical-align: top;\n",
       "    }\n",
       "\n",
       "    .dataframe thead th {\n",
       "        text-align: right;\n",
       "    }\n",
       "</style>\n",
       "<table border=\"1\" class=\"dataframe\">\n",
       "  <thead>\n",
       "    <tr style=\"text-align: right;\">\n",
       "      <th></th>\n",
       "      <th>name</th>\n",
       "      <th>image</th>\n",
       "      <th>shape</th>\n",
       "      <th>height</th>\n",
       "      <th>width</th>\n",
       "      <th>image_resized</th>\n",
       "      <th>image_resized_flattened</th>\n",
       "    </tr>\n",
       "  </thead>\n",
       "  <tbody>\n",
       "    <tr>\n",
       "      <th>0</th>\n",
       "      <td>bill_gates</td>\n",
       "      <td>[[2, 2, 2, 2, 2, 2, 2, 2, 2, 2, 2, 2, 2, 2, 2,...</td>\n",
       "      <td>(152, 152)</td>\n",
       "      <td>152</td>\n",
       "      <td>152</td>\n",
       "      <td>[[2, 2, 2, 2, 2, 2, 2, 2, 2, 2, 2, 2, 2, 2, 2,...</td>\n",
       "      <td>[2, 2, 2, 2, 2, 2, 2, 2, 2, 2, 2, 2, 2, 2, 2, ...</td>\n",
       "    </tr>\n",
       "    <tr>\n",
       "      <th>1</th>\n",
       "      <td>bill_gates</td>\n",
       "      <td>[[207, 209, 212, 211, 211, 211, 211, 212, 211,...</td>\n",
       "      <td>(228, 228)</td>\n",
       "      <td>228</td>\n",
       "      <td>228</td>\n",
       "      <td>[[207, 210, 211, 211, 211, 211, 212, 211, 212,...</td>\n",
       "      <td>[207, 210, 211, 211, 211, 211, 212, 211, 212, ...</td>\n",
       "    </tr>\n",
       "    <tr>\n",
       "      <th>2</th>\n",
       "      <td>bill_gates</td>\n",
       "      <td>[[38, 50, 79, 99, 116, 117, 107, 111, 109, 101...</td>\n",
       "      <td>(342, 342)</td>\n",
       "      <td>342</td>\n",
       "      <td>342</td>\n",
       "      <td>[[51, 92, 116, 116, 116, 103, 134, 125, 100, 1...</td>\n",
       "      <td>[51, 92, 116, 116, 116, 103, 134, 125, 100, 10...</td>\n",
       "    </tr>\n",
       "    <tr>\n",
       "      <th>3</th>\n",
       "      <td>bill_gates</td>\n",
       "      <td>[[67, 57, 38, 36, 42, 49, 58, 42, 32, 33, 27, ...</td>\n",
       "      <td>(228, 228)</td>\n",
       "      <td>228</td>\n",
       "      <td>228</td>\n",
       "      <td>[[65, 52, 37, 40, 48, 58, 40, 32, 30, 25, 27, ...</td>\n",
       "      <td>[65, 52, 37, 40, 48, 58, 40, 32, 30, 25, 27, 2...</td>\n",
       "    </tr>\n",
       "    <tr>\n",
       "      <th>4</th>\n",
       "      <td>bill_gates</td>\n",
       "      <td>[[35, 33, 34, 34, 34, 35, 34, 35, 34, 34, 34, ...</td>\n",
       "      <td>(152, 152)</td>\n",
       "      <td>152</td>\n",
       "      <td>152</td>\n",
       "      <td>[[35, 34, 33, 34, 34, 34, 35, 35, 34, 35, 34, ...</td>\n",
       "      <td>[35, 34, 33, 34, 34, 34, 35, 35, 34, 35, 34, 3...</td>\n",
       "    </tr>\n",
       "    <tr>\n",
       "      <th>...</th>\n",
       "      <td>...</td>\n",
       "      <td>...</td>\n",
       "      <td>...</td>\n",
       "      <td>...</td>\n",
       "      <td>...</td>\n",
       "      <td>...</td>\n",
       "      <td>...</td>\n",
       "    </tr>\n",
       "    <tr>\n",
       "      <th>847</th>\n",
       "      <td>tom_hiddleston</td>\n",
       "      <td>[[38, 36, 38, 47, 36, 21, 32, 64, 46, 25, 22, ...</td>\n",
       "      <td>(228, 228)</td>\n",
       "      <td>228</td>\n",
       "      <td>228</td>\n",
       "      <td>[[37, 37, 42, 40, 24, 32, 60, 37, 23, 16, 33, ...</td>\n",
       "      <td>[37, 37, 42, 40, 24, 32, 60, 37, 23, 16, 33, 5...</td>\n",
       "    </tr>\n",
       "    <tr>\n",
       "      <th>848</th>\n",
       "      <td>tom_hiddleston</td>\n",
       "      <td>[[156, 159, 166, 170, 166, 163, 164, 166, 159,...</td>\n",
       "      <td>(228, 228)</td>\n",
       "      <td>228</td>\n",
       "      <td>228</td>\n",
       "      <td>[[156, 161, 167, 167, 164, 164, 165, 161, 163,...</td>\n",
       "      <td>[156, 161, 167, 167, 164, 164, 165, 161, 163, ...</td>\n",
       "    </tr>\n",
       "    <tr>\n",
       "      <th>849</th>\n",
       "      <td>tom_hiddleston</td>\n",
       "      <td>[[9, 4, 9, 11, 7, 7, 9, 10, 8, 8, 7, 9, 12, 8,...</td>\n",
       "      <td>(152, 152)</td>\n",
       "      <td>152</td>\n",
       "      <td>152</td>\n",
       "      <td>[[9, 6, 6, 10, 11, 8, 7, 8, 9, 10, 8, 8, 8, 7,...</td>\n",
       "      <td>[9, 6, 6, 10, 11, 8, 7, 8, 9, 10, 8, 8, 8, 7, ...</td>\n",
       "    </tr>\n",
       "    <tr>\n",
       "      <th>850</th>\n",
       "      <td>tom_hiddleston</td>\n",
       "      <td>[[97, 93, 90, 88, 86, 84, 79, 76, 76, 73, 70, ...</td>\n",
       "      <td>(228, 228)</td>\n",
       "      <td>228</td>\n",
       "      <td>228</td>\n",
       "      <td>[[96, 92, 89, 87, 84, 79, 76, 75, 71, 68, 61, ...</td>\n",
       "      <td>[96, 92, 89, 87, 84, 79, 76, 75, 71, 68, 61, 5...</td>\n",
       "    </tr>\n",
       "    <tr>\n",
       "      <th>851</th>\n",
       "      <td>tom_hiddleston</td>\n",
       "      <td>[[106, 123, 134, 123, 127, 136, 149, 154, 160,...</td>\n",
       "      <td>(342, 342)</td>\n",
       "      <td>342</td>\n",
       "      <td>342</td>\n",
       "      <td>[[113, 131, 135, 146, 156, 168, 175, 185, 187,...</td>\n",
       "      <td>[113, 131, 135, 146, 156, 168, 175, 185, 187, ...</td>\n",
       "    </tr>\n",
       "  </tbody>\n",
       "</table>\n",
       "<p>852 rows × 7 columns</p>\n",
       "</div>"
      ],
      "text/plain": [
       "               name                                              image  \\\n",
       "0        bill_gates  [[2, 2, 2, 2, 2, 2, 2, 2, 2, 2, 2, 2, 2, 2, 2,...   \n",
       "1        bill_gates  [[207, 209, 212, 211, 211, 211, 211, 212, 211,...   \n",
       "2        bill_gates  [[38, 50, 79, 99, 116, 117, 107, 111, 109, 101...   \n",
       "3        bill_gates  [[67, 57, 38, 36, 42, 49, 58, 42, 32, 33, 27, ...   \n",
       "4        bill_gates  [[35, 33, 34, 34, 34, 35, 34, 35, 34, 34, 34, ...   \n",
       "..              ...                                                ...   \n",
       "847  tom_hiddleston  [[38, 36, 38, 47, 36, 21, 32, 64, 46, 25, 22, ...   \n",
       "848  tom_hiddleston  [[156, 159, 166, 170, 166, 163, 164, 166, 159,...   \n",
       "849  tom_hiddleston  [[9, 4, 9, 11, 7, 7, 9, 10, 8, 8, 7, 9, 12, 8,...   \n",
       "850  tom_hiddleston  [[97, 93, 90, 88, 86, 84, 79, 76, 76, 73, 70, ...   \n",
       "851  tom_hiddleston  [[106, 123, 134, 123, 127, 136, 149, 154, 160,...   \n",
       "\n",
       "          shape  height  width  \\\n",
       "0    (152, 152)     152    152   \n",
       "1    (228, 228)     228    228   \n",
       "2    (342, 342)     342    342   \n",
       "3    (228, 228)     228    228   \n",
       "4    (152, 152)     152    152   \n",
       "..          ...     ...    ...   \n",
       "847  (228, 228)     228    228   \n",
       "848  (228, 228)     228    228   \n",
       "849  (152, 152)     152    152   \n",
       "850  (228, 228)     228    228   \n",
       "851  (342, 342)     342    342   \n",
       "\n",
       "                                         image_resized  \\\n",
       "0    [[2, 2, 2, 2, 2, 2, 2, 2, 2, 2, 2, 2, 2, 2, 2,...   \n",
       "1    [[207, 210, 211, 211, 211, 211, 212, 211, 212,...   \n",
       "2    [[51, 92, 116, 116, 116, 103, 134, 125, 100, 1...   \n",
       "3    [[65, 52, 37, 40, 48, 58, 40, 32, 30, 25, 27, ...   \n",
       "4    [[35, 34, 33, 34, 34, 34, 35, 35, 34, 35, 34, ...   \n",
       "..                                                 ...   \n",
       "847  [[37, 37, 42, 40, 24, 32, 60, 37, 23, 16, 33, ...   \n",
       "848  [[156, 161, 167, 167, 164, 164, 165, 161, 163,...   \n",
       "849  [[9, 6, 6, 10, 11, 8, 7, 8, 9, 10, 8, 8, 8, 7,...   \n",
       "850  [[96, 92, 89, 87, 84, 79, 76, 75, 71, 68, 61, ...   \n",
       "851  [[113, 131, 135, 146, 156, 168, 175, 185, 187,...   \n",
       "\n",
       "                               image_resized_flattened  \n",
       "0    [2, 2, 2, 2, 2, 2, 2, 2, 2, 2, 2, 2, 2, 2, 2, ...  \n",
       "1    [207, 210, 211, 211, 211, 211, 212, 211, 212, ...  \n",
       "2    [51, 92, 116, 116, 116, 103, 134, 125, 100, 10...  \n",
       "3    [65, 52, 37, 40, 48, 58, 40, 32, 30, 25, 27, 2...  \n",
       "4    [35, 34, 33, 34, 34, 34, 35, 35, 34, 35, 34, 3...  \n",
       "..                                                 ...  \n",
       "847  [37, 37, 42, 40, 24, 32, 60, 37, 23, 16, 33, 5...  \n",
       "848  [156, 161, 167, 167, 164, 164, 165, 161, 163, ...  \n",
       "849  [9, 6, 6, 10, 11, 8, 7, 8, 9, 10, 8, 8, 8, 7, ...  \n",
       "850  [96, 92, 89, 87, 84, 79, 76, 75, 71, 68, 61, 5...  \n",
       "851  [113, 131, 135, 146, 156, 168, 175, 185, 187, ...  \n",
       "\n",
       "[852 rows x 7 columns]"
      ]
     },
     "execution_count": 175,
     "metadata": {},
     "output_type": "execute_result"
    }
   ],
   "source": [
    "data"
   ]
  },
  {
   "cell_type": "code",
   "execution_count": null,
   "id": "0fec4ba2",
   "metadata": {},
   "outputs": [],
   "source": []
  },
  {
   "cell_type": "code",
   "execution_count": 202,
   "id": "59abb496",
   "metadata": {},
   "outputs": [],
   "source": [
    "train_data, test_data = train_test_split(data, test_size=0.1)\n",
    "\n",
    "X_training = train_data['image_resized_flattened'].apply(pd.Series)\n",
    "y_training = train_data['name']\n",
    "X_testing = test_data['image_resized_flattened'].apply(pd.Series)\n",
    "y_testing = test_data['name']"
   ]
  },
  {
   "cell_type": "code",
   "execution_count": null,
   "id": "8741498d",
   "metadata": {},
   "outputs": [],
   "source": []
  }
 ],
 "metadata": {
  "kernelspec": {
   "display_name": "Python 3 (ipykernel)",
   "language": "python",
   "name": "python3"
  },
  "language_info": {
   "codemirror_mode": {
    "name": "ipython",
    "version": 3
   },
   "file_extension": ".py",
   "mimetype": "text/x-python",
   "name": "python",
   "nbconvert_exporter": "python",
   "pygments_lexer": "ipython3",
   "version": "3.7.9"
  }
 },
 "nbformat": 4,
 "nbformat_minor": 5
}
